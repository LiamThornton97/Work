{
 "cells": [
  {
   "cell_type": "code",
   "execution_count": null,
   "id": "4a55a006",
   "metadata": {},
   "outputs": [],
   "source": [
    "import os\n",
    "import pandas as pd\n",
    "import numpy as np\n",
    "import seaborn as sns\n",
    "import matplotlib.pyplot as plt\n",
    "import datetime"
   ]
  },
  {
   "cell_type": "markdown",
   "id": "7ce9bff4",
   "metadata": {},
   "source": [
    "### 1. Reading and formatting datasets for plotting"
   ]
  },
  {
   "cell_type": "code",
   "execution_count": null,
   "id": "49cecd1e",
   "metadata": {},
   "outputs": [],
   "source": [
    "targets = pd.read_excel(os.path.join(os.getcwd(), 'MHEP Board Quarterly Overview.xlsx'), sheet_name='Quarterly Targets')\n",
    "outcomes = pd.read_excel(os.path.join(os.getcwd(), 'MHEP Board Quarterly Overview.xlsx'), sheet_name='Quarterly outcomes summary', header=3)"
   ]
  },
  {
   "cell_type": "code",
   "execution_count": null,
   "id": "1d092339",
   "metadata": {},
   "outputs": [],
   "source": [
    "def format_outcomes(df):\n",
    "    df.rename(columns={'Shorthand Name': 'SIB'}, inplace=True)\n",
    "    df.drop(columns=['Contract', 'Area', 'Search Key', 'Area_Outcome'], inplace=True)\n",
    "    return df\n",
    "\n",
    "def parse_by_sib(df, sib):\n",
    "    df = format_outcomes(df)\n",
    "    sib_df = df[df['SIB'] == sib]\n",
    "    for c in list(sib_df.columns.astype(str)):\n",
    "        if 'Unnamed' in str(c):\n",
    "            sib_df.drop(columns=[c], inplace=True)\n",
    "    sib_df.set_index('Outcome', drop=True, inplace=True)\n",
    "    sib_df = sib_df.T\n",
    "    sib_df = sib_df.dropna(subset=['Referrals', 'Engagements'])\n",
    "    sib_df = sib_df.iloc[1:, :]\n",
    "    try:\n",
    "        sib_df.rename(columns={'Job outcome 6-wk': 'Sustainments'}, inplace=True)\n",
    "        sib_df.rename(columns={'Job outcome 13-wk': 'Sustainments'}, inplace=True)\n",
    "    except:\n",
    "        pass\n",
    "    \n",
    "    sib_df = sib_df[sib_df.index >= datetime.datetime(2019, 4, 1,0,0,0)]\n",
    "    return sib_df\n",
    "\n",
    "def format_targets(df, sib):\n",
    "    new_cols = [x for x in df.columns if 'Unnamed' not in str(x)]\n",
    "    df = df[new_cols]\n",
    "    df = df[df['SIB'] == sib]\n",
    "    df['Target'] = df['Target Type'] + ' ' + df['Outcome']\n",
    "    df.set_index('Target', inplace=True)\n",
    "    df = df.T.iloc[4:, :]\n",
    "    df = df[df.index >= datetime.datetime(2019, 4, 1,0,0,0)]\n",
    "    return df\n",
    "\n",
    "def plot_by_sib(outcomes, targets, sib):\n",
    "    outcomes_df = parse_by_sib(outcomes, sib)\n",
    "    targets_df = format_targets(targets, sib)\n",
    "    \n",
    "    plot_df = outcomes_df.join(targets_df)\n",
    "    \n",
    "    for x in plot_df.columns:\n",
    "        plot_df['Cumulative ' + x] = plot_df[x].cumsum()\n",
    "    \n",
    "    sns.set()\n",
    "    for x in ['Referrals', 'Engagements', 'Job Starts', 'Sustainments']:\n",
    "        y_values = [y for y in plot_df.columns if x in y and 'Cumulative' in y]\n",
    "        x_values = plot_df.index\n",
    "        fig = plt.figure(figsize=(10,5))\n",
    "        for i,y in enumerate(y_values):\n",
    "            if i ==0:\n",
    "                plt.plot(x_values, plot_df[y_values[i]],color='g')\n",
    "            elif i == 1:\n",
    "                plt.plot(x_values, plot_df[y_values[i]], color='r', linestyle= '--')\n",
    "            else:\n",
    "                plt.plot(x_values, plot_df[y_values[i]], linestyle= '--')\n",
    "            plt.ylabel(x)\n",
    "            plt.legend(y_values)\n",
    "    return"
   ]
  },
  {
   "cell_type": "markdown",
   "id": "e105e407",
   "metadata": {},
   "source": [
    "### 2. Plotting by SIB"
   ]
  },
  {
   "cell_type": "markdown",
   "id": "a2a1722f",
   "metadata": {},
   "source": [
    "#### 2.1 Camden"
   ]
  },
  {
   "cell_type": "code",
   "execution_count": null,
   "id": "bbeaba98",
   "metadata": {
    "scrolled": false
   },
   "outputs": [],
   "source": [
    "outcomes = pd.read_excel(os.path.join(os.getcwd(), 'MHEP Board Quarterly Overview.xlsx'), sheet_name='Quarterly outcomes summary', header=3)\n",
    "plot_by_sib(outcomes, targets, 'Camden')"
   ]
  },
  {
   "cell_type": "markdown",
   "id": "0eeb29db",
   "metadata": {},
   "source": [
    "#### 2.2 Enfield"
   ]
  },
  {
   "cell_type": "code",
   "execution_count": null,
   "id": "b53062e0",
   "metadata": {},
   "outputs": [],
   "source": [
    "outcomes = pd.read_excel(os.path.join(os.getcwd(), 'MHEP Board Quarterly Overview.xlsx'), sheet_name='Quarterly outcomes summary', header=3)\n",
    "plot_by_sib(outcomes, targets, 'Enfield')"
   ]
  },
  {
   "cell_type": "markdown",
   "id": "5143c8e2",
   "metadata": {},
   "source": [
    "#### 2.3 H&B"
   ]
  },
  {
   "cell_type": "code",
   "execution_count": null,
   "id": "d30939c2",
   "metadata": {},
   "outputs": [],
   "source": [
    "outcomes = pd.read_excel(os.path.join(os.getcwd(), 'MHEP Board Quarterly Overview.xlsx'), sheet_name='Quarterly outcomes summary', header=3)\n",
    "plot_by_sib(outcomes, targets, 'H&B')"
   ]
  },
  {
   "cell_type": "markdown",
   "id": "b90cb77a",
   "metadata": {},
   "source": [
    "#### 2.4 TH SMI"
   ]
  },
  {
   "cell_type": "code",
   "execution_count": null,
   "id": "15d744dd",
   "metadata": {},
   "outputs": [],
   "source": [
    "outcomes = pd.read_excel(os.path.join(os.getcwd(), 'MHEP Board Quarterly Overview.xlsx'), sheet_name='Quarterly outcomes summary', header=3)\n",
    "plot_by_sib(outcomes, targets, 'TH SMI')"
   ]
  },
  {
   "cell_type": "markdown",
   "id": "66e41704",
   "metadata": {},
   "source": [
    "#### 2.5 TH LD"
   ]
  },
  {
   "cell_type": "code",
   "execution_count": null,
   "id": "4c174518",
   "metadata": {
    "scrolled": false
   },
   "outputs": [],
   "source": [
    "outcomes = pd.read_excel(os.path.join(os.getcwd(), 'MHEP Board Quarterly Overview.xlsx'), sheet_name='Quarterly outcomes summary', header=3)\n",
    "plot_by_sib(outcomes, targets, 'TH LD')"
   ]
  },
  {
   "cell_type": "markdown",
   "id": "996fb20d",
   "metadata": {},
   "source": [
    "#### 2.6 WLA"
   ]
  },
  {
   "cell_type": "code",
   "execution_count": null,
   "id": "8f1e82c0",
   "metadata": {},
   "outputs": [],
   "source": [
    "outcomes = pd.read_excel(os.path.join(os.getcwd(), 'MHEP Board Quarterly Overview.xlsx'), sheet_name='Quarterly outcomes summary', header=3)\n",
    "plot_by_sib(outcomes, targets, 'WLA')"
   ]
  },
  {
   "cell_type": "markdown",
   "id": "df24e2bb",
   "metadata": {},
   "source": [
    "#### 2.7 Shropshire"
   ]
  },
  {
   "cell_type": "code",
   "execution_count": null,
   "id": "a3aa61c4",
   "metadata": {},
   "outputs": [],
   "source": [
    "outcomes = pd.read_excel(os.path.join(os.getcwd(), 'MHEP Board Quarterly Overview.xlsx'), sheet_name='Quarterly outcomes summary', header=3)\n",
    "plot_by_sib(outcomes, targets, 'Shropshire')"
   ]
  }
 ],
 "metadata": {
  "kernelspec": {
   "display_name": "Python 3",
   "language": "python",
   "name": "python3"
  },
  "language_info": {
   "codemirror_mode": {
    "name": "ipython",
    "version": 3
   },
   "file_extension": ".py",
   "mimetype": "text/x-python",
   "name": "python",
   "nbconvert_exporter": "python",
   "pygments_lexer": "ipython3",
   "version": "3.8.8"
  }
 },
 "nbformat": 4,
 "nbformat_minor": 5
}
